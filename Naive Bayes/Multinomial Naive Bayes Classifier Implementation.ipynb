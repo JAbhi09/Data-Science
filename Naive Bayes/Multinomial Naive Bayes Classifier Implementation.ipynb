{
 "cells": [
  {
   "cell_type": "markdown",
   "id": "b1cc7031",
   "metadata": {},
   "source": [
    "### Naive Bayes from scratch"
   ]
  },
  {
   "cell_type": "markdown",
   "id": "86cf1da0",
   "metadata": {},
   "source": [
    "Import Required Libraries"
   ]
  },
  {
   "cell_type": "code",
   "execution_count": 1,
   "id": "cbf86ddb",
   "metadata": {},
   "outputs": [],
   "source": [
    "import numpy as np"
   ]
  },
  {
   "cell_type": "code",
   "execution_count": 2,
   "id": "79f1149d",
   "metadata": {},
   "outputs": [],
   "source": [
    "# This function trains a Multinomial Naive Bayes classifier on the given training data.\n",
    "\n",
    "\n",
    "def fit(X_train, Y_train):\n",
    "    result = {}\n",
    "    class_values = set(Y_train)\n",
    "    for current_class in class_values:\n",
    "        result[current_class] = {}\n",
    "        result[\"total_data\"] = len(Y_train)\n",
    "        current_class_rows = (Y_train == current_class)\n",
    "        X_train_current = X_train[current_class_rows]\n",
    "        Y_train_current = Y_train[current_class_rows]\n",
    "        num_features = X_train.shape[1]\n",
    "        result[current_class][\"total_count\"] = len(Y_train_current)\n",
    "        for j in range(1, num_features + 1):\n",
    "            result[current_class][j] = {}\n",
    "            all_possible_values = set(X_train[:, j - 1])\n",
    "            for current_value in all_possible_values:\n",
    "                result[current_class][j][current_value] = (X_train_current[:, j - 1] == current_value).sum()\n",
    "                \n",
    "    return result"
   ]
  },
  {
   "cell_type": "code",
   "execution_count": 3,
   "id": "8dfb7114",
   "metadata": {},
   "outputs": [],
   "source": [
    "# This function predicts the class label for a single data point 'x' using a trained Multinomial Naive Bayes classifier represented by 'dictionary'.\n",
    "\n",
    "def predictSinglePoint(dictionary, x):\n",
    "    classes = dictionary.keys()\n",
    "    best_p = -1000\n",
    "    best_class = -1\n",
    "    first_run = True\n",
    "    for current_class in classes:\n",
    "        if (current_class == \"total_data\"):\n",
    "            continue\n",
    "        p_current_class = probability(dictionary, x, current_class)\n",
    "        if (first_run or p_current_class > best_p):\n",
    "            best_p = p_current_class\n",
    "            best_class = current_class\n",
    "        first_run = False\n",
    "    return best_class"
   ]
  },
  {
   "cell_type": "code",
   "execution_count": 4,
   "id": "6f342aaf",
   "metadata": {},
   "outputs": [],
   "source": [
    "# This function computes the logarithmic probability of a data point 'x' belonging to a specific class ('current_class') using a trained Multinomial Naive Bayes classifier represented by 'dictionary'.\n",
    "\n",
    "\n",
    "def probability(dictionary, x, current_class):\n",
    "    output = np.log(dictionary[current_class][\"total_count\"]) - np.log(dictionary[\"total_data\"])\n",
    "    num_features = len(dictionary[current_class].keys()) - 1;\n",
    "    for j in range(1, num_features + 1):\n",
    "        xj = x[j - 1]\n",
    "        count_current_class_with_value_xj = dictionary[current_class][j][xj] + 1\n",
    "        count_current_class = dictionary[current_class][\"total_count\"] + len(dictionary[current_class][j].keys())\n",
    "        current_xj_probablity = np.log(count_current_class_with_value_xj) - np.log(count_current_class)\n",
    "        output = output + current_xj_probablity\n",
    "    return output"
   ]
  },
  {
   "cell_type": "code",
   "execution_count": 5,
   "id": "f8720945",
   "metadata": {},
   "outputs": [],
   "source": [
    "# This function predicts the class labels for a list of data points 'X_test' using a trained Multinomial Naive Bayes classifier represented by 'dictionary'.\n",
    "\n",
    "\n",
    "def predict(dictionary, X_test):\n",
    "    y_pred = []\n",
    "    for x in X_test:\n",
    "        x_class = predictSinglePoint(dictionary, x)\n",
    "        y_pred.append(x_class)\n",
    "    return y_pred"
   ]
  },
  {
   "cell_type": "code",
   "execution_count": 6,
   "id": "a9c98923",
   "metadata": {},
   "outputs": [],
   "source": [
    "# Example training data\n",
    "X_train = np.array([[1, 0], [1, 1], [0, 1], [2, 2], [3, 3], [2, 4]])\n",
    "Y_train = np.array([0, 0, 0, 1, 1, 1])\n",
    "\n",
    "# Train the Naive Bayes model\n",
    "model = fit(X_train, Y_train)"
   ]
  },
  {
   "cell_type": "code",
   "execution_count": 7,
   "id": "1887a55f",
   "metadata": {},
   "outputs": [
    {
     "name": "stdout",
     "output_type": "stream",
     "text": [
      "[0, 0, 1]\n"
     ]
    }
   ],
   "source": [
    "# Example test data\n",
    "X_test = np.array([[1, 1], [0, 0], [3, 4]])\n",
    "\n",
    "# Make predictions on the test data\n",
    "predictions = predict(model, X_test)\n",
    "\n",
    "print(predictions)  # Output: [0, 0, 1]\n"
   ]
  }
 ],
 "metadata": {
  "kernelspec": {
   "display_name": "Python 3 (ipykernel)",
   "language": "python",
   "name": "python3"
  },
  "language_info": {
   "codemirror_mode": {
    "name": "ipython",
    "version": 3
   },
   "file_extension": ".py",
   "mimetype": "text/x-python",
   "name": "python",
   "nbconvert_exporter": "python",
   "pygments_lexer": "ipython3",
   "version": "3.9.5"
  }
 },
 "nbformat": 4,
 "nbformat_minor": 5
}
