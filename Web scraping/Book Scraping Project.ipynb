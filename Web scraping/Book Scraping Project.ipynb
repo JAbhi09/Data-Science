{
 "cells": [
  {
   "cell_type": "markdown",
   "id": "f9f3fe78",
   "metadata": {},
   "source": [
    "## Importing Libraries"
   ]
  },
  {
   "cell_type": "code",
   "execution_count": 2,
   "id": "6d81e089",
   "metadata": {},
   "outputs": [],
   "source": [
    "import requests\n",
    "from bs4 import BeautifulSoup\n",
    "import re\n",
    "import pandas as pd"
   ]
  },
  {
   "cell_type": "markdown",
   "id": "ec8229b7",
   "metadata": {},
   "source": [
    "#### Web Page Scraping Setup"
   ]
  },
  {
   "cell_type": "code",
   "execution_count": 3,
   "id": "a3b7b3a1",
   "metadata": {},
   "outputs": [],
   "source": [
    "all_page_url = ['https://books.toscrape.com/catalogue/page-1.html']\n",
    "current_page = \"https://books.toscrape.com/catalogue/page-1.html\"\n",
    "base_url_page = \"https://books.toscrape.com/catalogue/\"\n",
    "res_page = requests.get(current_page)\n",
    "\n",
    "# Web Page Scraping Loop\n",
    "# Iterates through the pages, scraping data and appending new page URLs until there are no more \"next\" buttons.\n",
    "\n",
    "while res_page.status_code == 200:\n",
    "    data_page = BeautifulSoup(res_page.text, \"html.parser\")\n",
    "    if data_page.find(class_ = \"next\") is None:\n",
    "        break\n",
    "    page_url = base_url_page + data_page.find(class_ = \"next\").a[\"href\"]\n",
    "    current_page = page_url\n",
    "    res_page = requests.get(current_page)\n",
    "#     print(page_url)\n",
    "    all_page_url.append(page_url)"
   ]
  },
  {
   "cell_type": "code",
   "execution_count": 4,
   "id": "df8ebc7f",
   "metadata": {},
   "outputs": [
    {
     "name": "stdout",
     "output_type": "stream",
     "text": [
      "['https://books.toscrape.com/catalogue/page-1.html', 'https://books.toscrape.com/catalogue/page-2.html', 'https://books.toscrape.com/catalogue/page-3.html', 'https://books.toscrape.com/catalogue/page-4.html', 'https://books.toscrape.com/catalogue/page-5.html']\n"
     ]
    }
   ],
   "source": [
    "# let's Select Subset of Page URLs to check\n",
    "\n",
    "page_urls = [all_page_url[i] for i in range(0,5)]\n",
    "print(page_urls)\n"
   ]
  },
  {
   "cell_type": "markdown",
   "id": "016f5ba0",
   "metadata": {},
   "source": [
    "#### Scraping Book URLs from Pages"
   ]
  },
  {
   "cell_type": "code",
   "execution_count": 5,
   "id": "d7226c2b",
   "metadata": {},
   "outputs": [],
   "source": [
    "# Iterates through a subset of page URLs, scrapes book URLs, and stores them in the book_links list.\n",
    "\n",
    "book_links = []\n",
    "for page_url in page_urls:\n",
    "    \n",
    "# current_page = \"https://books.toscrape.com/catalogue/page-1.html\"\n",
    "    res_book = requests.get(page_url)\n",
    "    data_book = BeautifulSoup(res_book.text, \"html.parser\")\n",
    "    book_half_urls = data_book.find_all(class_ = \"product_pod\")\n",
    "\n",
    "    for book_url in book_half_urls:\n",
    "        book_link = base_url_page + book_url.h3.a[\"href\"]\n",
    "        book_links.append(book_link)"
   ]
  },
  {
   "cell_type": "markdown",
   "id": "cbeb64c4",
   "metadata": {},
   "source": [
    "#### Scraping Book Details from Detail Pages"
   ]
  },
  {
   "cell_type": "code",
   "execution_count": 6,
   "id": "ec59ffe7",
   "metadata": {},
   "outputs": [],
   "source": [
    "# Iterates through the list of book URLs, scrapes details like title, price and stock from each book's detail page, and stores them in the book_detail list.\n",
    "\n",
    "book_detail = []\n",
    "for book_details_link in book_links:\n",
    "\n",
    "# book_details_link = 'https://books.toscrape.com/catalogue/a-light-in-the-attic_1000/index.html'\n",
    "    book_details = requests.get(book_details_link)\n",
    "    data_book_details = BeautifulSoup(book_details.text, \"html.parser\")\n",
    "    title = data_book_details.find(\"h1\").string\n",
    "    link = book_details_link  \n",
    "    price = data_book_details.find(\"p\", class_ = \"price_color\").string\n",
    "    price = float(re.search(\"\\d.+\", price).group())\n",
    "    stock = data_book_details.find(\"p\", class_ = \"instock availability\").text.strip()\n",
    "    stock = int(re.search(\"\\d+\", stock).group())\n",
    "    book_detail.append([title, link, price, stock])"
   ]
  },
  {
   "cell_type": "code",
   "execution_count": 7,
   "id": "f66fbb23",
   "metadata": {},
   "outputs": [],
   "source": [
    "# Creating DataFrame from Book Details\n",
    "\n",
    "df = pd.DataFrame(book_detail, columns=[\"Title\", \"Link\", \"Price\", \"Stock Available\"])"
   ]
  },
  {
   "cell_type": "code",
   "execution_count": 8,
   "id": "616866f7",
   "metadata": {},
   "outputs": [
    {
     "name": "stdout",
     "output_type": "stream",
     "text": [
      "<class 'pandas.core.frame.DataFrame'>\n",
      "RangeIndex: 100 entries, 0 to 99\n",
      "Data columns (total 4 columns):\n",
      " #   Column           Non-Null Count  Dtype  \n",
      "---  ------           --------------  -----  \n",
      " 0   Title            100 non-null    object \n",
      " 1   Link             100 non-null    object \n",
      " 2   Price            100 non-null    float64\n",
      " 3   Stock Available  100 non-null    int64  \n",
      "dtypes: float64(1), int64(1), object(2)\n",
      "memory usage: 3.2+ KB\n"
     ]
    }
   ],
   "source": [
    "# let's see the info of dataframe\n",
    "\n",
    "df.info()"
   ]
  },
  {
   "cell_type": "code",
   "execution_count": 10,
   "id": "c72cfdcf",
   "metadata": {},
   "outputs": [
    {
     "data": {
      "text/html": [
       "<div>\n",
       "<style scoped>\n",
       "    .dataframe tbody tr th:only-of-type {\n",
       "        vertical-align: middle;\n",
       "    }\n",
       "\n",
       "    .dataframe tbody tr th {\n",
       "        vertical-align: top;\n",
       "    }\n",
       "\n",
       "    .dataframe thead th {\n",
       "        text-align: right;\n",
       "    }\n",
       "</style>\n",
       "<table border=\"1\" class=\"dataframe\">\n",
       "  <thead>\n",
       "    <tr style=\"text-align: right;\">\n",
       "      <th></th>\n",
       "      <th>Title</th>\n",
       "      <th>Link</th>\n",
       "      <th>Price</th>\n",
       "      <th>Stock Available</th>\n",
       "    </tr>\n",
       "  </thead>\n",
       "  <tbody>\n",
       "    <tr>\n",
       "      <th>0</th>\n",
       "      <td>A Light in the Attic</td>\n",
       "      <td>https://books.toscrape.com/catalogue/a-light-i...</td>\n",
       "      <td>51.77</td>\n",
       "      <td>22</td>\n",
       "    </tr>\n",
       "    <tr>\n",
       "      <th>1</th>\n",
       "      <td>Tipping the Velvet</td>\n",
       "      <td>https://books.toscrape.com/catalogue/tipping-t...</td>\n",
       "      <td>53.74</td>\n",
       "      <td>20</td>\n",
       "    </tr>\n",
       "    <tr>\n",
       "      <th>2</th>\n",
       "      <td>Soumission</td>\n",
       "      <td>https://books.toscrape.com/catalogue/soumissio...</td>\n",
       "      <td>50.10</td>\n",
       "      <td>20</td>\n",
       "    </tr>\n",
       "    <tr>\n",
       "      <th>3</th>\n",
       "      <td>Sharp Objects</td>\n",
       "      <td>https://books.toscrape.com/catalogue/sharp-obj...</td>\n",
       "      <td>47.82</td>\n",
       "      <td>20</td>\n",
       "    </tr>\n",
       "    <tr>\n",
       "      <th>4</th>\n",
       "      <td>Sapiens: A Brief History of Humankind</td>\n",
       "      <td>https://books.toscrape.com/catalogue/sapiens-a...</td>\n",
       "      <td>54.23</td>\n",
       "      <td>20</td>\n",
       "    </tr>\n",
       "  </tbody>\n",
       "</table>\n",
       "</div>"
      ],
      "text/plain": [
       "                                   Title   \n",
       "0                   A Light in the Attic  \\\n",
       "1                     Tipping the Velvet   \n",
       "2                             Soumission   \n",
       "3                          Sharp Objects   \n",
       "4  Sapiens: A Brief History of Humankind   \n",
       "\n",
       "                                                Link  Price  Stock Available  \n",
       "0  https://books.toscrape.com/catalogue/a-light-i...  51.77               22  \n",
       "1  https://books.toscrape.com/catalogue/tipping-t...  53.74               20  \n",
       "2  https://books.toscrape.com/catalogue/soumissio...  50.10               20  \n",
       "3  https://books.toscrape.com/catalogue/sharp-obj...  47.82               20  \n",
       "4  https://books.toscrape.com/catalogue/sapiens-a...  54.23               20  "
      ]
     },
     "execution_count": 10,
     "metadata": {},
     "output_type": "execute_result"
    }
   ],
   "source": [
    "# Displaying the First Rows of the DataFrame\n",
    "\n",
    "df.head()"
   ]
  },
  {
   "cell_type": "code",
   "execution_count": null,
   "id": "5ef1d05b",
   "metadata": {},
   "outputs": [],
   "source": [
    "# Saving DataFrame to CSV File\n",
    "\n",
    "df.to_csv(\"Books_details_project_5.csv\", index=False)"
   ]
  },
  {
   "cell_type": "markdown",
   "id": "b7a83cff",
   "metadata": {},
   "source": [
    "**Conclusion:**\n",
    "This web scraping project utilized Python libraries such as requests, BeautifulSoup, and pandas to extract book details from the \"Books to Scrape\" website. The process involved fetching page URLs, navigating pagination, collecting book URLs, scraping information like title, link, price, and stock availability, and organizing the data into a structured DataFrame. The final step included saving the DataFrame as a CSV file. This project highlights the significance of web scraping for data acquisition and manipulation, showcasing its practical applications in data analysis and providing hands-on experience in these essential skills."
   ]
  },
  {
   "cell_type": "code",
   "execution_count": null,
   "id": "700ac0d8",
   "metadata": {},
   "outputs": [],
   "source": []
  }
 ],
 "metadata": {
  "kernelspec": {
   "display_name": "Python 3 (ipykernel)",
   "language": "python",
   "name": "python3"
  },
  "language_info": {
   "codemirror_mode": {
    "name": "ipython",
    "version": 3
   },
   "file_extension": ".py",
   "mimetype": "text/x-python",
   "name": "python",
   "nbconvert_exporter": "python",
   "pygments_lexer": "ipython3",
   "version": "3.9.5"
  }
 },
 "nbformat": 4,
 "nbformat_minor": 5
}
