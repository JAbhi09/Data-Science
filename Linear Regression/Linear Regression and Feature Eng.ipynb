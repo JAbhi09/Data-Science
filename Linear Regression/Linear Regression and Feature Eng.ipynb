{
 "cells": [
  {
   "cell_type": "markdown",
   "id": "cba5923f",
   "metadata": {},
   "source": [
    "## Import Libraries"
   ]
  },
  {
   "cell_type": "code",
   "execution_count": 1,
   "id": "6a681986",
   "metadata": {},
   "outputs": [],
   "source": [
    "import numpy as np \n",
    "import pandas as pd\n",
    "from sklearn.datasets import load_boston\n",
    "import warnings"
   ]
  },
  {
   "cell_type": "code",
   "execution_count": 2,
   "id": "99a2dbb8",
   "metadata": {},
   "outputs": [],
   "source": [
    "warnings.filterwarnings(\"ignore\")"
   ]
  },
  {
   "cell_type": "code",
   "execution_count": 3,
   "id": "0518642b",
   "metadata": {},
   "outputs": [],
   "source": [
    "# Loading boston housing Dataset \n",
    "\n",
    "boston = load_boston()"
   ]
  },
  {
   "cell_type": "code",
   "execution_count": 4,
   "id": "a0300d4b",
   "metadata": {},
   "outputs": [
    {
     "data": {
      "text/plain": [
       "dict_keys(['data', 'target', 'feature_names', 'DESCR', 'filename'])"
      ]
     },
     "execution_count": 4,
     "metadata": {},
     "output_type": "execute_result"
    }
   ],
   "source": [
    "boston.keys()"
   ]
  },
  {
   "cell_type": "code",
   "execution_count": 5,
   "id": "54ec1bd6",
   "metadata": {},
   "outputs": [
    {
     "data": {
      "text/plain": [
       "array(['CRIM', 'ZN', 'INDUS', 'CHAS', 'NOX', 'RM', 'AGE', 'DIS', 'RAD',\n",
       "       'TAX', 'PTRATIO', 'B', 'LSTAT'], dtype='<U7')"
      ]
     },
     "execution_count": 5,
     "metadata": {},
     "output_type": "execute_result"
    }
   ],
   "source": [
    "# let's see the features name\n",
    "boston[\"feature_names\"]"
   ]
  },
  {
   "cell_type": "code",
   "execution_count": 6,
   "id": "3bd9ecf8",
   "metadata": {},
   "outputs": [],
   "source": [
    "# Splitting data and target \n",
    "\n",
    "X = boston[\"data\"]\n",
    "y = boston[\"target\"] "
   ]
  },
  {
   "cell_type": "code",
   "execution_count": 7,
   "id": "a4634dbe",
   "metadata": {},
   "outputs": [
    {
     "data": {
      "text/plain": [
       "(506, 13)"
      ]
     },
     "execution_count": 7,
     "metadata": {},
     "output_type": "execute_result"
    }
   ],
   "source": [
    "# Creating DataFrame with Feature Names\n",
    "\n",
    "df = pd.DataFrame(X)\n",
    "df.columns = boston[\"feature_names\"]\n",
    "df.shape"
   ]
  },
  {
   "cell_type": "code",
   "execution_count": 8,
   "id": "ba7499fe",
   "metadata": {},
   "outputs": [
    {
     "data": {
      "text/html": [
       "<div>\n",
       "<style scoped>\n",
       "    .dataframe tbody tr th:only-of-type {\n",
       "        vertical-align: middle;\n",
       "    }\n",
       "\n",
       "    .dataframe tbody tr th {\n",
       "        vertical-align: top;\n",
       "    }\n",
       "\n",
       "    .dataframe thead th {\n",
       "        text-align: right;\n",
       "    }\n",
       "</style>\n",
       "<table border=\"1\" class=\"dataframe\">\n",
       "  <thead>\n",
       "    <tr style=\"text-align: right;\">\n",
       "      <th></th>\n",
       "      <th>CRIM</th>\n",
       "      <th>ZN</th>\n",
       "      <th>INDUS</th>\n",
       "      <th>CHAS</th>\n",
       "      <th>NOX</th>\n",
       "      <th>RM</th>\n",
       "      <th>AGE</th>\n",
       "      <th>DIS</th>\n",
       "      <th>RAD</th>\n",
       "      <th>TAX</th>\n",
       "      <th>PTRATIO</th>\n",
       "      <th>B</th>\n",
       "      <th>LSTAT</th>\n",
       "    </tr>\n",
       "  </thead>\n",
       "  <tbody>\n",
       "    <tr>\n",
       "      <th>count</th>\n",
       "      <td>506.000000</td>\n",
       "      <td>506.000000</td>\n",
       "      <td>506.000000</td>\n",
       "      <td>506.000000</td>\n",
       "      <td>506.000000</td>\n",
       "      <td>506.000000</td>\n",
       "      <td>506.000000</td>\n",
       "      <td>506.000000</td>\n",
       "      <td>506.000000</td>\n",
       "      <td>506.000000</td>\n",
       "      <td>506.000000</td>\n",
       "      <td>506.000000</td>\n",
       "      <td>506.000000</td>\n",
       "    </tr>\n",
       "    <tr>\n",
       "      <th>mean</th>\n",
       "      <td>3.613524</td>\n",
       "      <td>11.363636</td>\n",
       "      <td>11.136779</td>\n",
       "      <td>0.069170</td>\n",
       "      <td>0.554695</td>\n",
       "      <td>6.284634</td>\n",
       "      <td>68.574901</td>\n",
       "      <td>3.795043</td>\n",
       "      <td>9.549407</td>\n",
       "      <td>408.237154</td>\n",
       "      <td>18.455534</td>\n",
       "      <td>356.674032</td>\n",
       "      <td>12.653063</td>\n",
       "    </tr>\n",
       "    <tr>\n",
       "      <th>std</th>\n",
       "      <td>8.601545</td>\n",
       "      <td>23.322453</td>\n",
       "      <td>6.860353</td>\n",
       "      <td>0.253994</td>\n",
       "      <td>0.115878</td>\n",
       "      <td>0.702617</td>\n",
       "      <td>28.148861</td>\n",
       "      <td>2.105710</td>\n",
       "      <td>8.707259</td>\n",
       "      <td>168.537116</td>\n",
       "      <td>2.164946</td>\n",
       "      <td>91.294864</td>\n",
       "      <td>7.141062</td>\n",
       "    </tr>\n",
       "    <tr>\n",
       "      <th>min</th>\n",
       "      <td>0.006320</td>\n",
       "      <td>0.000000</td>\n",
       "      <td>0.460000</td>\n",
       "      <td>0.000000</td>\n",
       "      <td>0.385000</td>\n",
       "      <td>3.561000</td>\n",
       "      <td>2.900000</td>\n",
       "      <td>1.129600</td>\n",
       "      <td>1.000000</td>\n",
       "      <td>187.000000</td>\n",
       "      <td>12.600000</td>\n",
       "      <td>0.320000</td>\n",
       "      <td>1.730000</td>\n",
       "    </tr>\n",
       "    <tr>\n",
       "      <th>25%</th>\n",
       "      <td>0.082045</td>\n",
       "      <td>0.000000</td>\n",
       "      <td>5.190000</td>\n",
       "      <td>0.000000</td>\n",
       "      <td>0.449000</td>\n",
       "      <td>5.885500</td>\n",
       "      <td>45.025000</td>\n",
       "      <td>2.100175</td>\n",
       "      <td>4.000000</td>\n",
       "      <td>279.000000</td>\n",
       "      <td>17.400000</td>\n",
       "      <td>375.377500</td>\n",
       "      <td>6.950000</td>\n",
       "    </tr>\n",
       "    <tr>\n",
       "      <th>50%</th>\n",
       "      <td>0.256510</td>\n",
       "      <td>0.000000</td>\n",
       "      <td>9.690000</td>\n",
       "      <td>0.000000</td>\n",
       "      <td>0.538000</td>\n",
       "      <td>6.208500</td>\n",
       "      <td>77.500000</td>\n",
       "      <td>3.207450</td>\n",
       "      <td>5.000000</td>\n",
       "      <td>330.000000</td>\n",
       "      <td>19.050000</td>\n",
       "      <td>391.440000</td>\n",
       "      <td>11.360000</td>\n",
       "    </tr>\n",
       "    <tr>\n",
       "      <th>75%</th>\n",
       "      <td>3.677083</td>\n",
       "      <td>12.500000</td>\n",
       "      <td>18.100000</td>\n",
       "      <td>0.000000</td>\n",
       "      <td>0.624000</td>\n",
       "      <td>6.623500</td>\n",
       "      <td>94.075000</td>\n",
       "      <td>5.188425</td>\n",
       "      <td>24.000000</td>\n",
       "      <td>666.000000</td>\n",
       "      <td>20.200000</td>\n",
       "      <td>396.225000</td>\n",
       "      <td>16.955000</td>\n",
       "    </tr>\n",
       "    <tr>\n",
       "      <th>max</th>\n",
       "      <td>88.976200</td>\n",
       "      <td>100.000000</td>\n",
       "      <td>27.740000</td>\n",
       "      <td>1.000000</td>\n",
       "      <td>0.871000</td>\n",
       "      <td>8.780000</td>\n",
       "      <td>100.000000</td>\n",
       "      <td>12.126500</td>\n",
       "      <td>24.000000</td>\n",
       "      <td>711.000000</td>\n",
       "      <td>22.000000</td>\n",
       "      <td>396.900000</td>\n",
       "      <td>37.970000</td>\n",
       "    </tr>\n",
       "  </tbody>\n",
       "</table>\n",
       "</div>"
      ],
      "text/plain": [
       "             CRIM          ZN       INDUS        CHAS         NOX          RM   \n",
       "count  506.000000  506.000000  506.000000  506.000000  506.000000  506.000000  \\\n",
       "mean     3.613524   11.363636   11.136779    0.069170    0.554695    6.284634   \n",
       "std      8.601545   23.322453    6.860353    0.253994    0.115878    0.702617   \n",
       "min      0.006320    0.000000    0.460000    0.000000    0.385000    3.561000   \n",
       "25%      0.082045    0.000000    5.190000    0.000000    0.449000    5.885500   \n",
       "50%      0.256510    0.000000    9.690000    0.000000    0.538000    6.208500   \n",
       "75%      3.677083   12.500000   18.100000    0.000000    0.624000    6.623500   \n",
       "max     88.976200  100.000000   27.740000    1.000000    0.871000    8.780000   \n",
       "\n",
       "              AGE         DIS         RAD         TAX     PTRATIO           B   \n",
       "count  506.000000  506.000000  506.000000  506.000000  506.000000  506.000000  \\\n",
       "mean    68.574901    3.795043    9.549407  408.237154   18.455534  356.674032   \n",
       "std     28.148861    2.105710    8.707259  168.537116    2.164946   91.294864   \n",
       "min      2.900000    1.129600    1.000000  187.000000   12.600000    0.320000   \n",
       "25%     45.025000    2.100175    4.000000  279.000000   17.400000  375.377500   \n",
       "50%     77.500000    3.207450    5.000000  330.000000   19.050000  391.440000   \n",
       "75%     94.075000    5.188425   24.000000  666.000000   20.200000  396.225000   \n",
       "max    100.000000   12.126500   24.000000  711.000000   22.000000  396.900000   \n",
       "\n",
       "            LSTAT  \n",
       "count  506.000000  \n",
       "mean    12.653063  \n",
       "std      7.141062  \n",
       "min      1.730000  \n",
       "25%      6.950000  \n",
       "50%     11.360000  \n",
       "75%     16.955000  \n",
       "max     37.970000  "
      ]
     },
     "execution_count": 8,
     "metadata": {},
     "output_type": "execute_result"
    }
   ],
   "source": [
    "df.describe()"
   ]
  },
  {
   "cell_type": "code",
   "execution_count": 9,
   "id": "da25ebf4",
   "metadata": {},
   "outputs": [
    {
     "name": "stdout",
     "output_type": "stream",
     "text": [
      "<class 'pandas.core.frame.DataFrame'>\n",
      "RangeIndex: 506 entries, 0 to 505\n",
      "Data columns (total 13 columns):\n",
      " #   Column   Non-Null Count  Dtype  \n",
      "---  ------   --------------  -----  \n",
      " 0   CRIM     506 non-null    float64\n",
      " 1   ZN       506 non-null    float64\n",
      " 2   INDUS    506 non-null    float64\n",
      " 3   CHAS     506 non-null    float64\n",
      " 4   NOX      506 non-null    float64\n",
      " 5   RM       506 non-null    float64\n",
      " 6   AGE      506 non-null    float64\n",
      " 7   DIS      506 non-null    float64\n",
      " 8   RAD      506 non-null    float64\n",
      " 9   TAX      506 non-null    float64\n",
      " 10  PTRATIO  506 non-null    float64\n",
      " 11  B        506 non-null    float64\n",
      " 12  LSTAT    506 non-null    float64\n",
      "dtypes: float64(13)\n",
      "memory usage: 51.5 KB\n"
     ]
    }
   ],
   "source": [
    "df.info()"
   ]
  },
  {
   "cell_type": "code",
   "execution_count": 10,
   "id": "cf85c73c",
   "metadata": {},
   "outputs": [],
   "source": [
    "# let's initialization empty dataFrame for data combination  \n",
    "\n",
    "df_mix = pd.DataFrame() "
   ]
  },
  {
   "cell_type": "code",
   "execution_count": 11,
   "id": "3b721518",
   "metadata": {},
   "outputs": [],
   "source": [
    "# let's create new features in df_mix by computing interactions between pairs of original features.\n",
    "\n",
    "for i in df.columns:\n",
    "    for j in df.columns:\n",
    "       df_mix[i+\"_\"+j] = df[i]*df[j] \n",
    "       "
   ]
  },
  {
   "cell_type": "code",
   "execution_count": 12,
   "id": "dd52eff6",
   "metadata": {},
   "outputs": [
    {
     "data": {
      "text/html": [
       "<div>\n",
       "<style scoped>\n",
       "    .dataframe tbody tr th:only-of-type {\n",
       "        vertical-align: middle;\n",
       "    }\n",
       "\n",
       "    .dataframe tbody tr th {\n",
       "        vertical-align: top;\n",
       "    }\n",
       "\n",
       "    .dataframe thead th {\n",
       "        text-align: right;\n",
       "    }\n",
       "</style>\n",
       "<table border=\"1\" class=\"dataframe\">\n",
       "  <thead>\n",
       "    <tr style=\"text-align: right;\">\n",
       "      <th></th>\n",
       "      <th>CRIM_CRIM</th>\n",
       "      <th>CRIM_ZN</th>\n",
       "      <th>CRIM_INDUS</th>\n",
       "      <th>CRIM_CHAS</th>\n",
       "      <th>CRIM_NOX</th>\n",
       "      <th>CRIM_RM</th>\n",
       "      <th>CRIM_AGE</th>\n",
       "      <th>CRIM_DIS</th>\n",
       "      <th>CRIM_RAD</th>\n",
       "      <th>CRIM_TAX</th>\n",
       "      <th>...</th>\n",
       "      <th>LSTAT_CHAS</th>\n",
       "      <th>LSTAT_NOX</th>\n",
       "      <th>LSTAT_RM</th>\n",
       "      <th>LSTAT_AGE</th>\n",
       "      <th>LSTAT_DIS</th>\n",
       "      <th>LSTAT_RAD</th>\n",
       "      <th>LSTAT_TAX</th>\n",
       "      <th>LSTAT_PTRATIO</th>\n",
       "      <th>LSTAT_B</th>\n",
       "      <th>LSTAT_LSTAT</th>\n",
       "    </tr>\n",
       "  </thead>\n",
       "  <tbody>\n",
       "    <tr>\n",
       "      <th>0</th>\n",
       "      <td>0.000040</td>\n",
       "      <td>0.11376</td>\n",
       "      <td>0.014599</td>\n",
       "      <td>0.0</td>\n",
       "      <td>0.003400</td>\n",
       "      <td>0.041554</td>\n",
       "      <td>0.412064</td>\n",
       "      <td>0.025849</td>\n",
       "      <td>0.00632</td>\n",
       "      <td>1.87072</td>\n",
       "      <td>...</td>\n",
       "      <td>0.0</td>\n",
       "      <td>2.67924</td>\n",
       "      <td>32.74350</td>\n",
       "      <td>324.696</td>\n",
       "      <td>20.368200</td>\n",
       "      <td>4.98</td>\n",
       "      <td>1474.08</td>\n",
       "      <td>76.194</td>\n",
       "      <td>1976.5620</td>\n",
       "      <td>24.8004</td>\n",
       "    </tr>\n",
       "    <tr>\n",
       "      <th>1</th>\n",
       "      <td>0.000746</td>\n",
       "      <td>0.00000</td>\n",
       "      <td>0.193082</td>\n",
       "      <td>0.0</td>\n",
       "      <td>0.012808</td>\n",
       "      <td>0.175358</td>\n",
       "      <td>2.154759</td>\n",
       "      <td>0.135652</td>\n",
       "      <td>0.05462</td>\n",
       "      <td>6.60902</td>\n",
       "      <td>...</td>\n",
       "      <td>0.0</td>\n",
       "      <td>4.28666</td>\n",
       "      <td>58.68794</td>\n",
       "      <td>721.146</td>\n",
       "      <td>45.399294</td>\n",
       "      <td>18.28</td>\n",
       "      <td>2211.88</td>\n",
       "      <td>162.692</td>\n",
       "      <td>3627.6660</td>\n",
       "      <td>83.5396</td>\n",
       "    </tr>\n",
       "    <tr>\n",
       "      <th>2</th>\n",
       "      <td>0.000745</td>\n",
       "      <td>0.00000</td>\n",
       "      <td>0.192940</td>\n",
       "      <td>0.0</td>\n",
       "      <td>0.012799</td>\n",
       "      <td>0.196079</td>\n",
       "      <td>1.667419</td>\n",
       "      <td>0.135552</td>\n",
       "      <td>0.05458</td>\n",
       "      <td>6.60418</td>\n",
       "      <td>...</td>\n",
       "      <td>0.0</td>\n",
       "      <td>1.89007</td>\n",
       "      <td>28.95555</td>\n",
       "      <td>246.233</td>\n",
       "      <td>20.017413</td>\n",
       "      <td>8.06</td>\n",
       "      <td>975.26</td>\n",
       "      <td>71.734</td>\n",
       "      <td>1583.1049</td>\n",
       "      <td>16.2409</td>\n",
       "    </tr>\n",
       "    <tr>\n",
       "      <th>3</th>\n",
       "      <td>0.001048</td>\n",
       "      <td>0.00000</td>\n",
       "      <td>0.070567</td>\n",
       "      <td>0.0</td>\n",
       "      <td>0.014825</td>\n",
       "      <td>0.226525</td>\n",
       "      <td>1.482546</td>\n",
       "      <td>0.196233</td>\n",
       "      <td>0.09711</td>\n",
       "      <td>7.18614</td>\n",
       "      <td>...</td>\n",
       "      <td>0.0</td>\n",
       "      <td>1.34652</td>\n",
       "      <td>20.57412</td>\n",
       "      <td>134.652</td>\n",
       "      <td>17.822868</td>\n",
       "      <td>8.82</td>\n",
       "      <td>652.68</td>\n",
       "      <td>54.978</td>\n",
       "      <td>1160.2122</td>\n",
       "      <td>8.6436</td>\n",
       "    </tr>\n",
       "    <tr>\n",
       "      <th>4</th>\n",
       "      <td>0.004768</td>\n",
       "      <td>0.00000</td>\n",
       "      <td>0.150529</td>\n",
       "      <td>0.0</td>\n",
       "      <td>0.031625</td>\n",
       "      <td>0.493500</td>\n",
       "      <td>3.742510</td>\n",
       "      <td>0.418595</td>\n",
       "      <td>0.20715</td>\n",
       "      <td>15.32910</td>\n",
       "      <td>...</td>\n",
       "      <td>0.0</td>\n",
       "      <td>2.44114</td>\n",
       "      <td>38.09351</td>\n",
       "      <td>288.886</td>\n",
       "      <td>32.311526</td>\n",
       "      <td>15.99</td>\n",
       "      <td>1183.26</td>\n",
       "      <td>99.671</td>\n",
       "      <td>2115.4770</td>\n",
       "      <td>28.4089</td>\n",
       "    </tr>\n",
       "    <tr>\n",
       "      <th>...</th>\n",
       "      <td>...</td>\n",
       "      <td>...</td>\n",
       "      <td>...</td>\n",
       "      <td>...</td>\n",
       "      <td>...</td>\n",
       "      <td>...</td>\n",
       "      <td>...</td>\n",
       "      <td>...</td>\n",
       "      <td>...</td>\n",
       "      <td>...</td>\n",
       "      <td>...</td>\n",
       "      <td>...</td>\n",
       "      <td>...</td>\n",
       "      <td>...</td>\n",
       "      <td>...</td>\n",
       "      <td>...</td>\n",
       "      <td>...</td>\n",
       "      <td>...</td>\n",
       "      <td>...</td>\n",
       "      <td>...</td>\n",
       "      <td>...</td>\n",
       "    </tr>\n",
       "    <tr>\n",
       "      <th>501</th>\n",
       "      <td>0.003923</td>\n",
       "      <td>0.00000</td>\n",
       "      <td>0.747176</td>\n",
       "      <td>0.0</td>\n",
       "      <td>0.035887</td>\n",
       "      <td>0.412920</td>\n",
       "      <td>4.327733</td>\n",
       "      <td>0.155235</td>\n",
       "      <td>0.06263</td>\n",
       "      <td>17.09799</td>\n",
       "      <td>...</td>\n",
       "      <td>0.0</td>\n",
       "      <td>5.54091</td>\n",
       "      <td>63.75431</td>\n",
       "      <td>668.197</td>\n",
       "      <td>23.968062</td>\n",
       "      <td>9.67</td>\n",
       "      <td>2639.91</td>\n",
       "      <td>203.070</td>\n",
       "      <td>3790.5433</td>\n",
       "      <td>93.5089</td>\n",
       "    </tr>\n",
       "    <tr>\n",
       "      <th>502</th>\n",
       "      <td>0.002049</td>\n",
       "      <td>0.00000</td>\n",
       "      <td>0.540071</td>\n",
       "      <td>0.0</td>\n",
       "      <td>0.025940</td>\n",
       "      <td>0.277052</td>\n",
       "      <td>3.472209</td>\n",
       "      <td>0.103555</td>\n",
       "      <td>0.04527</td>\n",
       "      <td>12.35871</td>\n",
       "      <td>...</td>\n",
       "      <td>0.0</td>\n",
       "      <td>5.20284</td>\n",
       "      <td>55.56960</td>\n",
       "      <td>696.436</td>\n",
       "      <td>20.770500</td>\n",
       "      <td>9.08</td>\n",
       "      <td>2478.84</td>\n",
       "      <td>190.680</td>\n",
       "      <td>3603.8520</td>\n",
       "      <td>82.4464</td>\n",
       "    </tr>\n",
       "    <tr>\n",
       "      <th>503</th>\n",
       "      <td>0.003692</td>\n",
       "      <td>0.00000</td>\n",
       "      <td>0.724867</td>\n",
       "      <td>0.0</td>\n",
       "      <td>0.034815</td>\n",
       "      <td>0.423862</td>\n",
       "      <td>5.529160</td>\n",
       "      <td>0.131697</td>\n",
       "      <td>0.06076</td>\n",
       "      <td>16.58748</td>\n",
       "      <td>...</td>\n",
       "      <td>0.0</td>\n",
       "      <td>3.23172</td>\n",
       "      <td>39.34464</td>\n",
       "      <td>513.240</td>\n",
       "      <td>12.224700</td>\n",
       "      <td>5.64</td>\n",
       "      <td>1539.72</td>\n",
       "      <td>118.440</td>\n",
       "      <td>2238.5160</td>\n",
       "      <td>31.8096</td>\n",
       "    </tr>\n",
       "    <tr>\n",
       "      <th>504</th>\n",
       "      <td>0.012010</td>\n",
       "      <td>0.00000</td>\n",
       "      <td>1.307409</td>\n",
       "      <td>0.0</td>\n",
       "      <td>0.062795</td>\n",
       "      <td>0.744554</td>\n",
       "      <td>9.786387</td>\n",
       "      <td>0.261800</td>\n",
       "      <td>0.10959</td>\n",
       "      <td>29.91807</td>\n",
       "      <td>...</td>\n",
       "      <td>0.0</td>\n",
       "      <td>3.71304</td>\n",
       "      <td>44.02512</td>\n",
       "      <td>578.664</td>\n",
       "      <td>15.480072</td>\n",
       "      <td>6.48</td>\n",
       "      <td>1769.04</td>\n",
       "      <td>136.080</td>\n",
       "      <td>2549.5560</td>\n",
       "      <td>41.9904</td>\n",
       "    </tr>\n",
       "    <tr>\n",
       "      <th>505</th>\n",
       "      <td>0.002248</td>\n",
       "      <td>0.00000</td>\n",
       "      <td>0.565601</td>\n",
       "      <td>0.0</td>\n",
       "      <td>0.027166</td>\n",
       "      <td>0.285882</td>\n",
       "      <td>3.830728</td>\n",
       "      <td>0.118762</td>\n",
       "      <td>0.04741</td>\n",
       "      <td>12.94293</td>\n",
       "      <td>...</td>\n",
       "      <td>0.0</td>\n",
       "      <td>4.51524</td>\n",
       "      <td>47.51640</td>\n",
       "      <td>636.704</td>\n",
       "      <td>19.739400</td>\n",
       "      <td>7.88</td>\n",
       "      <td>2151.24</td>\n",
       "      <td>165.480</td>\n",
       "      <td>3127.5720</td>\n",
       "      <td>62.0944</td>\n",
       "    </tr>\n",
       "  </tbody>\n",
       "</table>\n",
       "<p>506 rows × 169 columns</p>\n",
       "</div>"
      ],
      "text/plain": [
       "     CRIM_CRIM  CRIM_ZN  CRIM_INDUS  CRIM_CHAS  CRIM_NOX   CRIM_RM  CRIM_AGE   \n",
       "0     0.000040  0.11376    0.014599        0.0  0.003400  0.041554  0.412064  \\\n",
       "1     0.000746  0.00000    0.193082        0.0  0.012808  0.175358  2.154759   \n",
       "2     0.000745  0.00000    0.192940        0.0  0.012799  0.196079  1.667419   \n",
       "3     0.001048  0.00000    0.070567        0.0  0.014825  0.226525  1.482546   \n",
       "4     0.004768  0.00000    0.150529        0.0  0.031625  0.493500  3.742510   \n",
       "..         ...      ...         ...        ...       ...       ...       ...   \n",
       "501   0.003923  0.00000    0.747176        0.0  0.035887  0.412920  4.327733   \n",
       "502   0.002049  0.00000    0.540071        0.0  0.025940  0.277052  3.472209   \n",
       "503   0.003692  0.00000    0.724867        0.0  0.034815  0.423862  5.529160   \n",
       "504   0.012010  0.00000    1.307409        0.0  0.062795  0.744554  9.786387   \n",
       "505   0.002248  0.00000    0.565601        0.0  0.027166  0.285882  3.830728   \n",
       "\n",
       "     CRIM_DIS  CRIM_RAD  CRIM_TAX  ...  LSTAT_CHAS  LSTAT_NOX  LSTAT_RM   \n",
       "0    0.025849   0.00632   1.87072  ...         0.0    2.67924  32.74350  \\\n",
       "1    0.135652   0.05462   6.60902  ...         0.0    4.28666  58.68794   \n",
       "2    0.135552   0.05458   6.60418  ...         0.0    1.89007  28.95555   \n",
       "3    0.196233   0.09711   7.18614  ...         0.0    1.34652  20.57412   \n",
       "4    0.418595   0.20715  15.32910  ...         0.0    2.44114  38.09351   \n",
       "..        ...       ...       ...  ...         ...        ...       ...   \n",
       "501  0.155235   0.06263  17.09799  ...         0.0    5.54091  63.75431   \n",
       "502  0.103555   0.04527  12.35871  ...         0.0    5.20284  55.56960   \n",
       "503  0.131697   0.06076  16.58748  ...         0.0    3.23172  39.34464   \n",
       "504  0.261800   0.10959  29.91807  ...         0.0    3.71304  44.02512   \n",
       "505  0.118762   0.04741  12.94293  ...         0.0    4.51524  47.51640   \n",
       "\n",
       "     LSTAT_AGE  LSTAT_DIS  LSTAT_RAD  LSTAT_TAX  LSTAT_PTRATIO    LSTAT_B   \n",
       "0      324.696  20.368200       4.98    1474.08         76.194  1976.5620  \\\n",
       "1      721.146  45.399294      18.28    2211.88        162.692  3627.6660   \n",
       "2      246.233  20.017413       8.06     975.26         71.734  1583.1049   \n",
       "3      134.652  17.822868       8.82     652.68         54.978  1160.2122   \n",
       "4      288.886  32.311526      15.99    1183.26         99.671  2115.4770   \n",
       "..         ...        ...        ...        ...            ...        ...   \n",
       "501    668.197  23.968062       9.67    2639.91        203.070  3790.5433   \n",
       "502    696.436  20.770500       9.08    2478.84        190.680  3603.8520   \n",
       "503    513.240  12.224700       5.64    1539.72        118.440  2238.5160   \n",
       "504    578.664  15.480072       6.48    1769.04        136.080  2549.5560   \n",
       "505    636.704  19.739400       7.88    2151.24        165.480  3127.5720   \n",
       "\n",
       "     LSTAT_LSTAT  \n",
       "0        24.8004  \n",
       "1        83.5396  \n",
       "2        16.2409  \n",
       "3         8.6436  \n",
       "4        28.4089  \n",
       "..           ...  \n",
       "501      93.5089  \n",
       "502      82.4464  \n",
       "503      31.8096  \n",
       "504      41.9904  \n",
       "505      62.0944  \n",
       "\n",
       "[506 rows x 169 columns]"
      ]
     },
     "execution_count": 12,
     "metadata": {},
     "output_type": "execute_result"
    }
   ],
   "source": [
    "df_mix"
   ]
  },
  {
   "cell_type": "code",
   "execution_count": 13,
   "id": "47f31918",
   "metadata": {},
   "outputs": [
    {
     "name": "stdout",
     "output_type": "stream",
     "text": [
      "Index(['CRIM_CRIM', 'CRIM_ZN', 'CRIM_INDUS', 'CRIM_CHAS', 'CRIM_NOX',\n",
      "       'CRIM_RM', 'CRIM_AGE', 'CRIM_DIS', 'CRIM_RAD', 'CRIM_TAX',\n",
      "       ...\n",
      "       'LSTAT_CHAS', 'LSTAT_NOX', 'LSTAT_RM', 'LSTAT_AGE', 'LSTAT_DIS',\n",
      "       'LSTAT_RAD', 'LSTAT_TAX', 'LSTAT_PTRATIO', 'LSTAT_B', 'LSTAT_LSTAT'],\n",
      "      dtype='object', length=169)\n"
     ]
    }
   ],
   "source": [
    "# let's see the columns of new combined feature dataframe\n",
    "\n",
    "print(df_mix.columns)"
   ]
  },
  {
   "cell_type": "code",
   "execution_count": 14,
   "id": "e373c2b2",
   "metadata": {},
   "outputs": [],
   "source": [
    "frames = [df, df_mix]"
   ]
  },
  {
   "cell_type": "code",
   "execution_count": 15,
   "id": "c15efb8a",
   "metadata": {},
   "outputs": [],
   "source": [
    "# Combine the original DataFrame df and the feature-interaction DataFrame df_mix horizontally.\n",
    "\n",
    "df_df_mix  = pd.concat(frames, axis = 1)"
   ]
  },
  {
   "cell_type": "code",
   "execution_count": 16,
   "id": "b379d22a",
   "metadata": {},
   "outputs": [],
   "source": [
    "\n",
    "X1 = df_df_mix.values"
   ]
  },
  {
   "cell_type": "code",
   "execution_count": 17,
   "id": "4dcdce8c",
   "metadata": {},
   "outputs": [],
   "source": [
    "# split the dataset into training and testing subsets.\n",
    "\n",
    "from sklearn.model_selection import train_test_split"
   ]
  },
  {
   "cell_type": "code",
   "execution_count": 18,
   "id": "178e5a13",
   "metadata": {},
   "outputs": [],
   "source": [
    "# Splitting the original data(X) and the augmented data(X1) into training and testing sets for model evaluation.\n",
    "\n",
    "X_train, X_test, Y_train, Y_test = train_test_split(X, y, test_size=0.7, random_state=123)\n",
    "X1_train, X1_test, Y1_train, Y1_test = train_test_split(X1, y, test_size=0.7, random_state=123)"
   ]
  },
  {
   "cell_type": "code",
   "execution_count": 19,
   "id": "0a468db3",
   "metadata": {},
   "outputs": [],
   "source": [
    "# Let's normalize the cols\n",
    "\n",
    "from sklearn.preprocessing import StandardScaler\n",
    "sc = StandardScaler()\n",
    "sc_x_train = sc.fit_transform(X_train)\n",
    "sc_x_test = sc.transform(X_test)\n",
    "sc_x1_train = sc.fit_transform(X1_train)\n",
    "sc_x1_test = sc.transform(X1_test)"
   ]
  },
  {
   "cell_type": "code",
   "execution_count": 20,
   "id": "2751a499",
   "metadata": {},
   "outputs": [
    {
     "data": {
      "text/plain": [
       "((151, 182), (151, 13))"
      ]
     },
     "execution_count": 20,
     "metadata": {},
     "output_type": "execute_result"
    }
   ],
   "source": [
    "sc_x1_train.shape, sc_x_train.shape"
   ]
  },
  {
   "cell_type": "code",
   "execution_count": 21,
   "id": "36901179",
   "metadata": {},
   "outputs": [],
   "source": [
    "# sc_x_train = sc_x_train.reshape(1, -1)\n",
    "# sc_x1_train = sc_x1_train.reshape(1, -1)"
   ]
  },
  {
   "cell_type": "code",
   "execution_count": 22,
   "id": "decec93a",
   "metadata": {},
   "outputs": [
    {
     "data": {
      "text/plain": [
       "array([[ 4.79901457, -0.47720874,  1.10797446, ..., -0.2015808 ,\n",
       "        -1.74354256, -0.40524478],\n",
       "       [-0.3157194 , -0.47720874, -0.86547841, ..., -0.77911216,\n",
       "        -0.71009703, -0.66203291],\n",
       "       [-0.31787931,  0.34187077, -1.03367866, ..., -1.22761857,\n",
       "        -1.16067301, -0.78489948],\n",
       "       ...,\n",
       "       [-0.3127434 , -0.47720874,  0.34382335, ..., -0.28585965,\n",
       "        -0.13441732, -0.39118875],\n",
       "       [-0.30599631,  0.54664064, -0.77267828, ..., -0.67985101,\n",
       "        -0.66185914, -0.64298562],\n",
       "       [-0.30741322,  0.42377872, -0.66682812, ..., -0.83529576,\n",
       "        -0.80126397, -0.69578886]])"
      ]
     },
     "execution_count": 22,
     "metadata": {},
     "output_type": "execute_result"
    }
   ],
   "source": [
    "sc_x1_test"
   ]
  },
  {
   "cell_type": "markdown",
   "id": "a787d146",
   "metadata": {},
   "source": [
    "#### Linear Regression "
   ]
  },
  {
   "cell_type": "code",
   "execution_count": 23,
   "id": "f6ed49f6",
   "metadata": {},
   "outputs": [],
   "source": [
    "from sklearn.linear_model import LinearRegression"
   ]
  },
  {
   "cell_type": "code",
   "execution_count": 24,
   "id": "01cf7491",
   "metadata": {},
   "outputs": [],
   "source": [
    "lr = LinearRegression()\n",
    "lr1 = LinearRegression()"
   ]
  },
  {
   "cell_type": "code",
   "execution_count": 25,
   "id": "6fe21066",
   "metadata": {},
   "outputs": [
    {
     "data": {
      "text/plain": [
       "LinearRegression()"
      ]
     },
     "execution_count": 25,
     "metadata": {},
     "output_type": "execute_result"
    }
   ],
   "source": [
    "lr.fit(sc_x_train, Y_train)\n",
    "lr1.fit(sc_x1_train, Y1_train)"
   ]
  },
  {
   "cell_type": "code",
   "execution_count": 26,
   "id": "3f1f14ee",
   "metadata": {},
   "outputs": [
    {
     "name": "stdout",
     "output_type": "stream",
     "text": [
      "Training Score of original data =  0.7268704184537585\n",
      "Testing Score of original data = 0.7062180675536951\n",
      "\n",
      "\n",
      "Training Score of augmented data =  0.9681689431915461\n",
      "Testing Score of augmented data = -0.16251392290716837\n"
     ]
    }
   ],
   "source": [
    "y_pred = lr.predict(X_test)\n",
    "train_score = lr.score(sc_x_train, Y_train)\n",
    "test_score = lr.score(sc_x_test, Y_test)\n",
    "print(\"Training Score of original data = \", train_score)\n",
    "print(\"Testing Score of original data =\", test_score)\n",
    "print(\"\\n\")\n",
    "\n",
    "y1_pred = lr1.predict(X1_test)\n",
    "train1_score = lr1.score(sc_x1_train, Y1_train)\n",
    "test1_score = lr1.score(sc_x1_test, Y1_test)\n",
    "print(\"Training Score of augmented data = \", train1_score)\n",
    "print(\"Testing Score of augmented data =\", test1_score)\n"
   ]
  },
  {
   "cell_type": "code",
   "execution_count": 27,
   "id": "36ff1280",
   "metadata": {},
   "outputs": [],
   "source": [
    "import matplotlib.pyplot as plt"
   ]
  },
  {
   "cell_type": "code",
   "execution_count": 28,
   "id": "f6f31c4f",
   "metadata": {},
   "outputs": [
    {
     "data": {
      "text/plain": [
       "<matplotlib.collections.PathCollection at 0x29b56393880>"
      ]
     },
     "execution_count": 28,
     "metadata": {},
     "output_type": "execute_result"
    },
    {
     "data": {
      "image/png": "[encoded data removed]",
      "text/plain": [
       "<Figure size 432x288 with 1 Axes>"
      ]
     },
     "metadata": {
      "needs_background": "light"
     },
     "output_type": "display_data"
    }
   ],
   "source": [
    "plt.scatter(Y_test, y_pred)"
   ]
  },
  {
   "cell_type": "code",
   "execution_count": 29,
   "id": "59d489fa",
   "metadata": {},
   "outputs": [
    {
     "data": {
      "text/plain": [
       "<matplotlib.collections.PathCollection at 0x29b51420af0>"
      ]
     },
     "execution_count": 29,
     "metadata": {},
     "output_type": "execute_result"
    },
    {
     "data": {
      "image/png": "[encoded data removed]",
      "text/plain": [
       "<Figure size 432x288 with 1 Axes>"
      ]
     },
     "metadata": {
      "needs_background": "light"
     },
     "output_type": "display_data"
    }
   ],
   "source": [
    "plt.scatter(Y1_test, y1_pred)"
   ]
  },
  {
   "cell_type": "markdown",
   "id": "643c090e",
   "metadata": {},
   "source": [
    "**Conclusion:**\n",
    "\n",
    "Overfitting is seen in the model trained on augmented dataset. While it performs well on the training set, it does poorly on the test set. This emphasizes the significance of finding an appropriate balance between model complexity and generalization. Augmenting characteristics might create noise or capture erroneous associations in new data. Regularization techniques or restricting the complexity of the augmented features could help to reduce overfitting and improve generalization. "
   ]
  },
  {
   "cell_type": "code",
   "execution_count": null,
   "id": "ea5255da",
   "metadata": {},
   "outputs": [],
   "source": []
  }
 ],
 "metadata": {
  "kernelspec": {
   "display_name": "Python 3 (ipykernel)",
   "language": "python",
   "name": "python3"
  },
  "language_info": {
   "codemirror_mode": {
    "name": "ipython",
    "version": 3
   },
   "file_extension": ".py",
   "mimetype": "text/x-python",
   "name": "python",
   "nbconvert_exporter": "python",
   "pygments_lexer": "ipython3",
   "version": "3.9.5"
  }
 },
 "nbformat": 4,
 "nbformat_minor": 5
}
