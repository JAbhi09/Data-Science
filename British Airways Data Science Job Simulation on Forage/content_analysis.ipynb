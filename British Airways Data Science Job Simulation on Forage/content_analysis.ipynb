{
 "cells": [
  {
   "cell_type": "code",
   "execution_count": 1,
   "id": "e58765b8",
   "metadata": {},
   "outputs": [],
   "source": [
    "# Importing necessary libraries\n",
    "\n",
    "import pandas as pd\n",
    "import numpy as np\n",
    "import re"
   ]
  },
  {
   "cell_type": "code",
   "execution_count": 2,
   "id": "24e7dbe7",
   "metadata": {},
   "outputs": [],
   "source": [
    "# Reading positive and negative review datasets into DataFrames\n",
    "\n",
    "df_pos = pd.read_csv(\"BriAri_pos_review.csv\")\n",
    "df_neg = pd.read_csv(\"BriAri_neg_review.csv\")"
   ]
  },
  {
   "cell_type": "code",
   "execution_count": 3,
   "id": "9b23c8b6",
   "metadata": {},
   "outputs": [
    {
     "data": {
      "text/html": [
       "<div>\n",
       "<style scoped>\n",
       "    .dataframe tbody tr th:only-of-type {\n",
       "        vertical-align: middle;\n",
       "    }\n",
       "\n",
       "    .dataframe tbody tr th {\n",
       "        vertical-align: top;\n",
       "    }\n",
       "\n",
       "    .dataframe thead th {\n",
       "        text-align: right;\n",
       "    }\n",
       "</style>\n",
       "<table border=\"1\" class=\"dataframe\">\n",
       "  <thead>\n",
       "    <tr style=\"text-align: right;\">\n",
       "      <th></th>\n",
       "      <th>Unnamed: 0</th>\n",
       "      <th>Id</th>\n",
       "      <th>label</th>\n",
       "      <th>score</th>\n",
       "      <th>negative_score</th>\n",
       "      <th>neutral_score</th>\n",
       "      <th>positive_score</th>\n",
       "      <th>text</th>\n",
       "    </tr>\n",
       "  </thead>\n",
       "  <tbody>\n",
       "    <tr>\n",
       "      <th>0</th>\n",
       "      <td>0</td>\n",
       "      <td>0</td>\n",
       "      <td>1</td>\n",
       "      <td>0.997455</td>\n",
       "      <td>0.012583</td>\n",
       "      <td>0.219128</td>\n",
       "      <td>0.768289</td>\n",
       "      <td>✅ Trip Verified | Easy check in a T5. Gallerie...</td>\n",
       "    </tr>\n",
       "    <tr>\n",
       "      <th>1</th>\n",
       "      <td>3</td>\n",
       "      <td>3</td>\n",
       "      <td>1</td>\n",
       "      <td>0.997670</td>\n",
       "      <td>0.003761</td>\n",
       "      <td>0.031903</td>\n",
       "      <td>0.964336</td>\n",
       "      <td>✅ Trip Verified | Good domestic flight operate...</td>\n",
       "    </tr>\n",
       "    <tr>\n",
       "      <th>2</th>\n",
       "      <td>8</td>\n",
       "      <td>8</td>\n",
       "      <td>1</td>\n",
       "      <td>0.999531</td>\n",
       "      <td>0.004443</td>\n",
       "      <td>0.021572</td>\n",
       "      <td>0.973985</td>\n",
       "      <td>✅ Trip Verified | I had the most fantastic BA ...</td>\n",
       "    </tr>\n",
       "    <tr>\n",
       "      <th>3</th>\n",
       "      <td>10</td>\n",
       "      <td>10</td>\n",
       "      <td>1</td>\n",
       "      <td>0.999130</td>\n",
       "      <td>0.007512</td>\n",
       "      <td>0.137402</td>\n",
       "      <td>0.855086</td>\n",
       "      <td>✅ Trip Verified | London Heathrow to Mumbai in...</td>\n",
       "    </tr>\n",
       "    <tr>\n",
       "      <th>4</th>\n",
       "      <td>19</td>\n",
       "      <td>19</td>\n",
       "      <td>1</td>\n",
       "      <td>0.918055</td>\n",
       "      <td>0.070034</td>\n",
       "      <td>0.431331</td>\n",
       "      <td>0.498635</td>\n",
       "      <td>Not Verified | Fast and friendly check in (tot...</td>\n",
       "    </tr>\n",
       "  </tbody>\n",
       "</table>\n",
       "</div>"
      ],
      "text/plain": [
       "   Unnamed: 0  Id  label     score  negative_score  neutral_score  \\\n",
       "0           0   0      1  0.997455        0.012583       0.219128   \n",
       "1           3   3      1  0.997670        0.003761       0.031903   \n",
       "2           8   8      1  0.999531        0.004443       0.021572   \n",
       "3          10  10      1  0.999130        0.007512       0.137402   \n",
       "4          19  19      1  0.918055        0.070034       0.431331   \n",
       "\n",
       "   positive_score                                               text  \n",
       "0        0.768289  ✅ Trip Verified | Easy check in a T5. Gallerie...  \n",
       "1        0.964336  ✅ Trip Verified | Good domestic flight operate...  \n",
       "2        0.973985  ✅ Trip Verified | I had the most fantastic BA ...  \n",
       "3        0.855086  ✅ Trip Verified | London Heathrow to Mumbai in...  \n",
       "4        0.498635  Not Verified | Fast and friendly check in (tot...  "
      ]
     },
     "execution_count": 3,
     "metadata": {},
     "output_type": "execute_result"
    }
   ],
   "source": [
    "df_pos.head()"
   ]
  },
  {
   "cell_type": "code",
   "execution_count": 4,
   "id": "8567bf8f",
   "metadata": {},
   "outputs": [],
   "source": [
    "# Importing NLTK stopwords and string library\n",
    "\n",
    "from nltk.corpus import stopwords\n",
    "import string"
   ]
  },
  {
   "cell_type": "code",
   "execution_count": 38,
   "id": "a5ffa638",
   "metadata": {},
   "outputs": [],
   "source": [
    "# Creating a list of stopwords\n",
    "stops = stopwords.words(\"english\")\n",
    "stops += list(string.punctuation)\n",
    "\n",
    "# Additional custom stopwords related to the context\n",
    "stops += ['flight','airline','flights', \"trip\", \"verified\", \"✅\"]"
   ]
  },
  {
   "cell_type": "code",
   "execution_count": 39,
   "id": "d649aa7e",
   "metadata": {},
   "outputs": [
    {
     "data": {
      "text/plain": [
       "'✅ Trip Verified | Easy check in a T5. Galleries south and North lounges packed, only just able to get a seat. Didn’t stay long as B gates lounge much quieter. Flight boarded smoothly and on time. A380 upper deck. Old club world seating which is beginning to age a little. However, like the large toilets on this aircraft type. Cabin crew were all fantastic. One family had tech issues with their seats and entertainment systems which crew worked hard on though sadly without success. Food and drink options were all very good. Entertainment was good. Overall an enjoyable flight.'"
      ]
     },
     "execution_count": 39,
     "metadata": {},
     "output_type": "execute_result"
    }
   ],
   "source": [
    "df_pos[\"text\"][0]"
   ]
  },
  {
   "cell_type": "code",
   "execution_count": 79,
   "id": "d7c8e512",
   "metadata": {},
   "outputs": [],
   "source": [
    "# Preprocessing positive review texts\n",
    "\n",
    "texts_pos = []\n",
    "\n",
    "for index, row in df_pos.iterrows():\n",
    "    tweet = row.text\n",
    "    tweet = re.sub('[\\s]+', ' ', tweet) #remove additional whitespaces\n",
    "    tweet = re.sub(r'#([^\\s]+)', r'\\1', tweet) #replace #word with word\n",
    "    tweet = tweet.strip('\\'\"') #trim tweet\n",
    "    words_pos = []\n",
    "    for word in tweet.split():\n",
    "        if word.lower() not in stops:\n",
    "            words_pos.append(word.lower())   \n",
    "    tweet = \" \".join(words_pos)\n",
    "    row.text = tweet\n",
    "    texts_pos.append(tweet)"
   ]
  },
  {
   "cell_type": "code",
   "execution_count": 80,
   "id": "fcb9d7c7",
   "metadata": {},
   "outputs": [],
   "source": [
    "# Preprocessing Negative review texts\n",
    "\n",
    "texts_neg = []\n",
    "\n",
    "for index, row in df_neg.iterrows():\n",
    "    tweet = row.text\n",
    "    tweet = re.sub('[\\s]+', ' ', tweet) #remove additional whitespaces\n",
    "    tweet = re.sub(r'#([^\\s]+)', r'\\1', tweet) #replace #word with word\n",
    "    tweet = tweet.strip('\\'\"') #trim tweet\n",
    "    words_neg = []\n",
    "    for word in tweet.split():\n",
    "        if word.lower() not in stops:\n",
    "            words_neg.append(word.lower())   \n",
    "    tweet = \" \".join(words_neg)\n",
    "    row.text = tweet\n",
    "    texts_neg.append(tweet)"
   ]
  },
  {
   "cell_type": "markdown",
   "id": "240d004a",
   "metadata": {},
   "source": [
    "###  Extracting and Analyzing Top Most Frequent Words using TF-IDF"
   ]
  },
  {
   "cell_type": "code",
   "execution_count": 81,
   "id": "e88de3ab",
   "metadata": {},
   "outputs": [
    {
     "name": "stdout",
     "output_type": "stream",
     "text": [
      "Top 100 most frequent words: ['good', 'ba', 'crew', 'service', 'food', 'london', 'time', 'cabin', 'great', 'flight', 'heathrow', 'friendly', 'check', 'well', 'seats', 'comfortable', 'seat', 'lounge', 'excellent', 'staff', 'airways', 'british', 'economy', 'british airways', 'really', 'cabin crew', 'experience', 'class', 'nice', 'new', 'one', 'club', 'aircraft', 'first', 'drinks', 'would', 'boarding', 'best', 'business', 'us', 'back', 'thank', 'amazing', 'made', 'london heathrow', 'professional', 'fine', 'quick', 'much', 'like', 'overall', 'helpful', 'arrival', 'world', 'flying', 'also', 'even', 'served', 'departure', 'attentive', 'entertainment', 'in', 'meal', 'premium', 'get', 'long', 'efficient', 'quite', 'return', 'breakfast', 'pleasant', 'could', 'full', 'fly', 'board', 'plane', 'it', 'passengers', 'free', 'early', 'business class', 'arrived', 'hour', 'due', 'minutes', 'day', 'clean', 'short', 'product', 'airport', 'ok', 'took', 'better', 'luggage', 'old', 'although', 'club world', 'happy', 't5', 'gatwick']\n"
     ]
    }
   ],
   "source": [
    "# For positive text\n",
    "\n",
    "from sklearn.feature_extraction.text import TfidfVectorizer\n",
    "\n",
    "# Sample text data\n",
    "# texts_pos = [\"This is a positive document.\", \"Another positive example.\", \"Yet another positive text.\"]\n",
    "\n",
    "v = TfidfVectorizer(analyzer='word', max_features=3150, max_df=0.7, ngram_range=(1,3))\n",
    "train_features = v.fit_transform(texts_pos)\n",
    "word_tfidf_sums = train_features.sum(axis=0)\n",
    "\n",
    "# Convert the sums to a list and retrieve corresponding feature names\n",
    "word_tfidf_sums = word_tfidf_sums.tolist()[0]\n",
    "feature_names = v.get_feature_names_out()\n",
    "\n",
    "# Create a list of tuples with word and corresponding sum of TF-IDF values\n",
    "word_tfidf_pairs = [(word, score) for word, score in zip(feature_names, word_tfidf_sums)]\n",
    "\n",
    "# Sort the list in descending order based on TF-IDF sums\n",
    "word_tfidf_pairs.sort(key=lambda x: x[1], reverse=True)\n",
    "\n",
    "# Get the top most frequent words\n",
    "top_n = 100  \n",
    "top_words = [word for word, score in word_tfidf_pairs[:top_n]]\n",
    "\n",
    "print(\"Top\", top_n, \"most frequent words:\", top_words)\n"
   ]
  },
  {
   "cell_type": "code",
   "execution_count": 82,
   "id": "fad269ce",
   "metadata": {},
   "outputs": [
    {
     "name": "stdout",
     "output_type": "stream",
     "text": [
      "Top 100 most frequent words: ['ba', 'service', 'london', 'seat', 'class', 'staff', 'business', 'seats', 'time', 'british', 'food', 'airways', 'british airways', 'one', 'us', 'hours', 'check', 'flight', 'business class', 'get', 'customer', 'crew', 'would', 'cabin', 'heathrow', 'cancelled', 'told', 'plane', 'economy', 'back', 'luggage', 'hour', 'delayed', 'even', 'airport', 'boarding', 'customer service', 'good', 'passengers', 'could', 'first', 'experience', 'booked', 'never', 'return', 'bag', 'minutes', 'it', 'fly', 'got', 'in', 'meal', 'new', 'late', 'airlines', 'refund', 'call', 'club', 'two', 'aircraft', 'still', 'due', 'poor', 'another', 'gate', 'last', 'day', 'arrived', 'like', 'travel', 'voucher', 'paid', 'baggage', 'pay', 'people', 'premium', 'lounge', 'check in', 'again', 'way', 'full', 'left', 'offered', 'worst', 'take', 'asked', 'days', 'said', 'made', 'long', 'ticket', 'also', 'lhr', 'make', 'next', 'given', 'much', 'money', 'go', 'via']\n"
     ]
    }
   ],
   "source": [
    "# For negative text\n",
    "\n",
    "train_features = v.fit_transform(texts_neg)\n",
    "word_tfidf_sums = train_features.sum(axis=0)\n",
    "\n",
    "# Convert the sums to a list and retrieve corresponding feature names\n",
    "word_tfidf_sums = word_tfidf_sums.tolist()[0]\n",
    "feature_names = v.get_feature_names_out()\n",
    "\n",
    "# Create a list of tuples with word and corresponding sum of TF-IDF values\n",
    "word_tfidf_pairs = [(word, score) for word, score in zip(feature_names, word_tfidf_sums)]\n",
    "\n",
    "# Sort the list in descending order based on TF-IDF sums\n",
    "word_tfidf_pairs.sort(key=lambda x: x[1], reverse=True)\n",
    "\n",
    "# Get the top most frequent words\n",
    "top_n = 100  \n",
    "top_words = [word for word, score in word_tfidf_pairs[:top_n]]\n",
    "\n",
    "print(\"Top\", top_n, \"most frequent words:\", top_words)\n"
   ]
  },
  {
   "cell_type": "markdown",
   "id": "70de3759",
   "metadata": {},
   "source": [
    "**Conclusion: **\n",
    "\n",
    "From the analysis of positive reviews, the top 100 most frequent words reveal a positive sentiment associated with British Airways. The words include descriptors like \"good,\" \"great,\" \"friendly,\" \"excellent,\" and references to services like \"cabin crew,\" \"lounge,\" \"food,\" and \"comfortable seats.\"\n",
    "\n",
    "\n",
    "The analysis of negative reviews reveals the top 100 most frequent words associated with British Airways. The words highlight areas of concern such as \"cancelled,\" \"delayed,\" \"poor,\" \"worst,\" and references to issues like \"luggage,\" \"customer service,\" \"refund,\" and \"flight delays.\" These words indicate customers' negative experiences and frustrations with various aspects of the airline's services."
   ]
  }
 ],
 "metadata": {
  "kernelspec": {
   "display_name": "dsprackernel",
   "language": "python",
   "name": "dsprackernel"
  },
  "language_info": {
   "codemirror_mode": {
    "name": "ipython",
    "version": 3
   },
   "file_extension": ".py",
   "mimetype": "text/x-python",
   "name": "python",
   "nbconvert_exporter": "python",
   "pygments_lexer": "ipython3",
   "version": "3.9.5"
  }
 },
 "nbformat": 4,
 "nbformat_minor": 5
}
